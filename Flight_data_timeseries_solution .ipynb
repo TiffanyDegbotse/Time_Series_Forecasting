{
 "cells": [
  {
   "cell_type": "markdown",
   "metadata": {},
   "source": [
    "<a href='https://ai.meng.duke.edu'> = <img align=\"left\" style=\"padding-top:10px;\" src=https://storage.googleapis.com/aipi_datasets/Duke-AIPI-Logo.png>"
   ]
  },
  {
   "cell_type": "markdown",
   "metadata": {},
   "source": [
    "# Weather data time series analysis"
   ]
  },
  {
   "cell_type": "markdown",
   "metadata": {},
   "source": [
    "## Prepare the data\n",
    "We will start by loading the necessary libraries and reading in the dataset to a pandas dataframe."
   ]
  },
  {
   "cell_type": "code",
   "execution_count": 1,
   "metadata": {},
   "outputs": [
    {
     "name": "stdout",
     "output_type": "stream",
     "text": [
      "station              object\n",
      "valid                object\n",
      "tmpf                 object\n",
      "dwpf                 object\n",
      "relh                 object\n",
      "drct                 object\n",
      "sknt                 object\n",
      "p01i                 object\n",
      "alti                 object\n",
      "mslp                 object\n",
      "vsby                 object\n",
      "gust                 object\n",
      "skyc1                object\n",
      "skyc2                object\n",
      "skyc3                object\n",
      "skyc4                object\n",
      "skyl1                object\n",
      "skyl2                object\n",
      "skyl3                object\n",
      "skyl4                object\n",
      "wxcodes              object\n",
      "ice_accretion_1hr    object\n",
      "ice_accretion_3hr    object\n",
      "ice_accretion_6hr    object\n",
      "peak_wind_gust       object\n",
      "peak_wind_drct       object\n",
      "peak_wind_time       object\n",
      "feel                 object\n",
      "metar                object\n",
      "snowdepth            object\n",
      "dtype: object\n"
     ]
    },
    {
     "data": {
      "text/html": [
       "<div>\n",
       "<style scoped>\n",
       "    .dataframe tbody tr th:only-of-type {\n",
       "        vertical-align: middle;\n",
       "    }\n",
       "\n",
       "    .dataframe tbody tr th {\n",
       "        vertical-align: top;\n",
       "    }\n",
       "\n",
       "    .dataframe thead th {\n",
       "        text-align: right;\n",
       "    }\n",
       "</style>\n",
       "<table border=\"1\" class=\"dataframe\">\n",
       "  <thead>\n",
       "    <tr style=\"text-align: right;\">\n",
       "      <th></th>\n",
       "      <th>station</th>\n",
       "      <th>valid</th>\n",
       "      <th>tmpf</th>\n",
       "      <th>dwpf</th>\n",
       "      <th>relh</th>\n",
       "      <th>drct</th>\n",
       "      <th>sknt</th>\n",
       "      <th>p01i</th>\n",
       "      <th>alti</th>\n",
       "      <th>mslp</th>\n",
       "      <th>...</th>\n",
       "      <th>wxcodes</th>\n",
       "      <th>ice_accretion_1hr</th>\n",
       "      <th>ice_accretion_3hr</th>\n",
       "      <th>ice_accretion_6hr</th>\n",
       "      <th>peak_wind_gust</th>\n",
       "      <th>peak_wind_drct</th>\n",
       "      <th>peak_wind_time</th>\n",
       "      <th>feel</th>\n",
       "      <th>metar</th>\n",
       "      <th>snowdepth</th>\n",
       "    </tr>\n",
       "  </thead>\n",
       "  <tbody>\n",
       "    <tr>\n",
       "      <th>0</th>\n",
       "      <td>RDU</td>\n",
       "      <td>1945-11-01 00:00</td>\n",
       "      <td>57.38</td>\n",
       "      <td>53.42</td>\n",
       "      <td>86.60</td>\n",
       "      <td>158.00</td>\n",
       "      <td>4.00</td>\n",
       "      <td>M</td>\n",
       "      <td>M</td>\n",
       "      <td>1014.90</td>\n",
       "      <td>...</td>\n",
       "      <td>M</td>\n",
       "      <td>M</td>\n",
       "      <td>M</td>\n",
       "      <td>M</td>\n",
       "      <td>M</td>\n",
       "      <td>M</td>\n",
       "      <td>M</td>\n",
       "      <td>57.38</td>\n",
       "      <td>KRDU 010500Z AUTO 15804KT 15SM 14/12 RMK SLP14...</td>\n",
       "      <td>M</td>\n",
       "    </tr>\n",
       "    <tr>\n",
       "      <th>1</th>\n",
       "      <td>RDU</td>\n",
       "      <td>1945-11-01 01:00</td>\n",
       "      <td>58.28</td>\n",
       "      <td>53.42</td>\n",
       "      <td>83.84</td>\n",
       "      <td>225.00</td>\n",
       "      <td>4.00</td>\n",
       "      <td>M</td>\n",
       "      <td>M</td>\n",
       "      <td>1014.90</td>\n",
       "      <td>...</td>\n",
       "      <td>M</td>\n",
       "      <td>M</td>\n",
       "      <td>M</td>\n",
       "      <td>M</td>\n",
       "      <td>M</td>\n",
       "      <td>M</td>\n",
       "      <td>M</td>\n",
       "      <td>58.28</td>\n",
       "      <td>KRDU 010600Z AUTO 22504KT 15SM 15/12 RMK SLP14...</td>\n",
       "      <td>M</td>\n",
       "    </tr>\n",
       "    <tr>\n",
       "      <th>2</th>\n",
       "      <td>RDU</td>\n",
       "      <td>1945-11-01 02:00</td>\n",
       "      <td>57.38</td>\n",
       "      <td>53.42</td>\n",
       "      <td>86.60</td>\n",
       "      <td>225.00</td>\n",
       "      <td>3.00</td>\n",
       "      <td>M</td>\n",
       "      <td>M</td>\n",
       "      <td>1014.90</td>\n",
       "      <td>...</td>\n",
       "      <td>M</td>\n",
       "      <td>M</td>\n",
       "      <td>M</td>\n",
       "      <td>M</td>\n",
       "      <td>M</td>\n",
       "      <td>M</td>\n",
       "      <td>M</td>\n",
       "      <td>57.38</td>\n",
       "      <td>KRDU 010700Z AUTO 22503KT 15SM 14/12 RMK SLP14...</td>\n",
       "      <td>M</td>\n",
       "    </tr>\n",
       "    <tr>\n",
       "      <th>3</th>\n",
       "      <td>RDU</td>\n",
       "      <td>1945-11-01 03:00</td>\n",
       "      <td>55.40</td>\n",
       "      <td>52.34</td>\n",
       "      <td>89.41</td>\n",
       "      <td>225.00</td>\n",
       "      <td>4.00</td>\n",
       "      <td>M</td>\n",
       "      <td>M</td>\n",
       "      <td>1014.60</td>\n",
       "      <td>...</td>\n",
       "      <td>M</td>\n",
       "      <td>M</td>\n",
       "      <td>M</td>\n",
       "      <td>M</td>\n",
       "      <td>M</td>\n",
       "      <td>M</td>\n",
       "      <td>M</td>\n",
       "      <td>55.40</td>\n",
       "      <td>KRDU 010800Z AUTO 22504KT 15SM 13/11 RMK SLP14...</td>\n",
       "      <td>M</td>\n",
       "    </tr>\n",
       "    <tr>\n",
       "      <th>4</th>\n",
       "      <td>RDU</td>\n",
       "      <td>1945-11-01 04:00</td>\n",
       "      <td>54.32</td>\n",
       "      <td>52.34</td>\n",
       "      <td>93.00</td>\n",
       "      <td>225.00</td>\n",
       "      <td>3.00</td>\n",
       "      <td>M</td>\n",
       "      <td>M</td>\n",
       "      <td>1014.60</td>\n",
       "      <td>...</td>\n",
       "      <td>M</td>\n",
       "      <td>M</td>\n",
       "      <td>M</td>\n",
       "      <td>M</td>\n",
       "      <td>M</td>\n",
       "      <td>M</td>\n",
       "      <td>M</td>\n",
       "      <td>54.32</td>\n",
       "      <td>KRDU 010900Z AUTO 22503KT 15SM 12/11 RMK SLP14...</td>\n",
       "      <td>M</td>\n",
       "    </tr>\n",
       "  </tbody>\n",
       "</table>\n",
       "<p>5 rows × 30 columns</p>\n",
       "</div>"
      ],
      "text/plain": [
       "  station             valid   tmpf   dwpf   relh    drct  sknt p01i alti  \\\n",
       "0     RDU  1945-11-01 00:00  57.38  53.42  86.60  158.00  4.00    M    M   \n",
       "1     RDU  1945-11-01 01:00  58.28  53.42  83.84  225.00  4.00    M    M   \n",
       "2     RDU  1945-11-01 02:00  57.38  53.42  86.60  225.00  3.00    M    M   \n",
       "3     RDU  1945-11-01 03:00  55.40  52.34  89.41  225.00  4.00    M    M   \n",
       "4     RDU  1945-11-01 04:00  54.32  52.34  93.00  225.00  3.00    M    M   \n",
       "\n",
       "      mslp  ... wxcodes ice_accretion_1hr ice_accretion_3hr ice_accretion_6hr  \\\n",
       "0  1014.90  ...       M                 M                 M                 M   \n",
       "1  1014.90  ...       M                 M                 M                 M   \n",
       "2  1014.90  ...       M                 M                 M                 M   \n",
       "3  1014.60  ...       M                 M                 M                 M   \n",
       "4  1014.60  ...       M                 M                 M                 M   \n",
       "\n",
       "  peak_wind_gust peak_wind_drct peak_wind_time   feel  \\\n",
       "0              M              M              M  57.38   \n",
       "1              M              M              M  58.28   \n",
       "2              M              M              M  57.38   \n",
       "3              M              M              M  55.40   \n",
       "4              M              M              M  54.32   \n",
       "\n",
       "                                               metar snowdepth  \n",
       "0  KRDU 010500Z AUTO 15804KT 15SM 14/12 RMK SLP14...         M  \n",
       "1  KRDU 010600Z AUTO 22504KT 15SM 15/12 RMK SLP14...         M  \n",
       "2  KRDU 010700Z AUTO 22503KT 15SM 14/12 RMK SLP14...         M  \n",
       "3  KRDU 010800Z AUTO 22504KT 15SM 13/11 RMK SLP14...         M  \n",
       "4  KRDU 010900Z AUTO 22503KT 15SM 12/11 RMK SLP14...         M  \n",
       "\n",
       "[5 rows x 30 columns]"
      ]
     },
     "execution_count": 1,
     "metadata": {},
     "output_type": "execute_result"
    }
   ],
   "source": [
    "import pandas as pd\n",
    "import numpy as np\n",
    "import matplotlib.pyplot as plt\n",
    "\n",
    "import warnings\n",
    "warnings.filterwarnings(\"ignore\")\n",
    "\n",
    "# Read in the data and display the head to see what data we have\n",
    "weather_data = pd.read_csv(\"data/RDU.csv\")\n",
    "print(weather_data.dtypes)\n",
    "weather_data.head()\n"
   ]
  },
  {
   "cell_type": "code",
   "execution_count": 2,
   "metadata": {},
   "outputs": [
    {
     "name": "stdout",
     "output_type": "stream",
     "text": [
      "station                      object\n",
      "valid                datetime64[ns]\n",
      "tmpf                         object\n",
      "dwpf                         object\n",
      "relh                         object\n",
      "drct                         object\n",
      "sknt                         object\n",
      "p01i                         object\n",
      "alti                         object\n",
      "mslp                         object\n",
      "vsby                         object\n",
      "gust                         object\n",
      "skyc1                        object\n",
      "skyc2                        object\n",
      "skyc3                        object\n",
      "skyc4                        object\n",
      "skyl1                        object\n",
      "skyl2                        object\n",
      "skyl3                        object\n",
      "skyl4                        object\n",
      "wxcodes                      object\n",
      "ice_accretion_1hr            object\n",
      "ice_accretion_3hr            object\n",
      "ice_accretion_6hr            object\n",
      "peak_wind_gust               object\n",
      "peak_wind_drct               object\n",
      "peak_wind_time               object\n",
      "feel                         object\n",
      "metar                        object\n",
      "snowdepth                    object\n",
      "dtype: object\n"
     ]
    }
   ],
   "source": [
    "# Convert valid to datetime\n",
    "weather_data['valid'] = pd.to_datetime(weather_data['valid'])\n",
    "print (weather_data.dtypes)\n"
   ]
  },
  {
   "cell_type": "markdown",
   "metadata": {},
   "source": [
    "We can add additional columns to store unique features of the data e.g. the year, month, day or hour"
   ]
  },
  {
   "cell_type": "code",
   "execution_count": 3,
   "metadata": {},
   "outputs": [
    {
     "data": {
      "text/html": [
       "<div>\n",
       "<style scoped>\n",
       "    .dataframe tbody tr th:only-of-type {\n",
       "        vertical-align: middle;\n",
       "    }\n",
       "\n",
       "    .dataframe tbody tr th {\n",
       "        vertical-align: top;\n",
       "    }\n",
       "\n",
       "    .dataframe thead th {\n",
       "        text-align: right;\n",
       "    }\n",
       "</style>\n",
       "<table border=\"1\" class=\"dataframe\">\n",
       "  <thead>\n",
       "    <tr style=\"text-align: right;\">\n",
       "      <th></th>\n",
       "      <th>station</th>\n",
       "      <th>valid</th>\n",
       "      <th>tmpf</th>\n",
       "      <th>dwpf</th>\n",
       "      <th>relh</th>\n",
       "      <th>drct</th>\n",
       "      <th>sknt</th>\n",
       "      <th>p01i</th>\n",
       "      <th>alti</th>\n",
       "      <th>mslp</th>\n",
       "      <th>...</th>\n",
       "      <th>peak_wind_gust</th>\n",
       "      <th>peak_wind_drct</th>\n",
       "      <th>peak_wind_time</th>\n",
       "      <th>feel</th>\n",
       "      <th>metar</th>\n",
       "      <th>snowdepth</th>\n",
       "      <th>DAY</th>\n",
       "      <th>MONTH</th>\n",
       "      <th>hour</th>\n",
       "      <th>dayofweek</th>\n",
       "    </tr>\n",
       "  </thead>\n",
       "  <tbody>\n",
       "    <tr>\n",
       "      <th>0</th>\n",
       "      <td>RDU</td>\n",
       "      <td>1945-11-01 00:00:00</td>\n",
       "      <td>57.38</td>\n",
       "      <td>53.42</td>\n",
       "      <td>86.60</td>\n",
       "      <td>158.00</td>\n",
       "      <td>4.00</td>\n",
       "      <td>M</td>\n",
       "      <td>M</td>\n",
       "      <td>1014.90</td>\n",
       "      <td>...</td>\n",
       "      <td>M</td>\n",
       "      <td>M</td>\n",
       "      <td>M</td>\n",
       "      <td>57.38</td>\n",
       "      <td>KRDU 010500Z AUTO 15804KT 15SM 14/12 RMK SLP14...</td>\n",
       "      <td>M</td>\n",
       "      <td>1</td>\n",
       "      <td>11</td>\n",
       "      <td>0</td>\n",
       "      <td>3</td>\n",
       "    </tr>\n",
       "    <tr>\n",
       "      <th>1</th>\n",
       "      <td>RDU</td>\n",
       "      <td>1945-11-01 01:00:00</td>\n",
       "      <td>58.28</td>\n",
       "      <td>53.42</td>\n",
       "      <td>83.84</td>\n",
       "      <td>225.00</td>\n",
       "      <td>4.00</td>\n",
       "      <td>M</td>\n",
       "      <td>M</td>\n",
       "      <td>1014.90</td>\n",
       "      <td>...</td>\n",
       "      <td>M</td>\n",
       "      <td>M</td>\n",
       "      <td>M</td>\n",
       "      <td>58.28</td>\n",
       "      <td>KRDU 010600Z AUTO 22504KT 15SM 15/12 RMK SLP14...</td>\n",
       "      <td>M</td>\n",
       "      <td>1</td>\n",
       "      <td>11</td>\n",
       "      <td>1</td>\n",
       "      <td>3</td>\n",
       "    </tr>\n",
       "    <tr>\n",
       "      <th>2</th>\n",
       "      <td>RDU</td>\n",
       "      <td>1945-11-01 02:00:00</td>\n",
       "      <td>57.38</td>\n",
       "      <td>53.42</td>\n",
       "      <td>86.60</td>\n",
       "      <td>225.00</td>\n",
       "      <td>3.00</td>\n",
       "      <td>M</td>\n",
       "      <td>M</td>\n",
       "      <td>1014.90</td>\n",
       "      <td>...</td>\n",
       "      <td>M</td>\n",
       "      <td>M</td>\n",
       "      <td>M</td>\n",
       "      <td>57.38</td>\n",
       "      <td>KRDU 010700Z AUTO 22503KT 15SM 14/12 RMK SLP14...</td>\n",
       "      <td>M</td>\n",
       "      <td>1</td>\n",
       "      <td>11</td>\n",
       "      <td>2</td>\n",
       "      <td>3</td>\n",
       "    </tr>\n",
       "    <tr>\n",
       "      <th>3</th>\n",
       "      <td>RDU</td>\n",
       "      <td>1945-11-01 03:00:00</td>\n",
       "      <td>55.40</td>\n",
       "      <td>52.34</td>\n",
       "      <td>89.41</td>\n",
       "      <td>225.00</td>\n",
       "      <td>4.00</td>\n",
       "      <td>M</td>\n",
       "      <td>M</td>\n",
       "      <td>1014.60</td>\n",
       "      <td>...</td>\n",
       "      <td>M</td>\n",
       "      <td>M</td>\n",
       "      <td>M</td>\n",
       "      <td>55.40</td>\n",
       "      <td>KRDU 010800Z AUTO 22504KT 15SM 13/11 RMK SLP14...</td>\n",
       "      <td>M</td>\n",
       "      <td>1</td>\n",
       "      <td>11</td>\n",
       "      <td>3</td>\n",
       "      <td>3</td>\n",
       "    </tr>\n",
       "    <tr>\n",
       "      <th>4</th>\n",
       "      <td>RDU</td>\n",
       "      <td>1945-11-01 04:00:00</td>\n",
       "      <td>54.32</td>\n",
       "      <td>52.34</td>\n",
       "      <td>93.00</td>\n",
       "      <td>225.00</td>\n",
       "      <td>3.00</td>\n",
       "      <td>M</td>\n",
       "      <td>M</td>\n",
       "      <td>1014.60</td>\n",
       "      <td>...</td>\n",
       "      <td>M</td>\n",
       "      <td>M</td>\n",
       "      <td>M</td>\n",
       "      <td>54.32</td>\n",
       "      <td>KRDU 010900Z AUTO 22503KT 15SM 12/11 RMK SLP14...</td>\n",
       "      <td>M</td>\n",
       "      <td>1</td>\n",
       "      <td>11</td>\n",
       "      <td>4</td>\n",
       "      <td>3</td>\n",
       "    </tr>\n",
       "  </tbody>\n",
       "</table>\n",
       "<p>5 rows × 34 columns</p>\n",
       "</div>"
      ],
      "text/plain": [
       "  station               valid   tmpf   dwpf   relh    drct  sknt p01i alti  \\\n",
       "0     RDU 1945-11-01 00:00:00  57.38  53.42  86.60  158.00  4.00    M    M   \n",
       "1     RDU 1945-11-01 01:00:00  58.28  53.42  83.84  225.00  4.00    M    M   \n",
       "2     RDU 1945-11-01 02:00:00  57.38  53.42  86.60  225.00  3.00    M    M   \n",
       "3     RDU 1945-11-01 03:00:00  55.40  52.34  89.41  225.00  4.00    M    M   \n",
       "4     RDU 1945-11-01 04:00:00  54.32  52.34  93.00  225.00  3.00    M    M   \n",
       "\n",
       "      mslp  ... peak_wind_gust peak_wind_drct peak_wind_time   feel  \\\n",
       "0  1014.90  ...              M              M              M  57.38   \n",
       "1  1014.90  ...              M              M              M  58.28   \n",
       "2  1014.90  ...              M              M              M  57.38   \n",
       "3  1014.60  ...              M              M              M  55.40   \n",
       "4  1014.60  ...              M              M              M  54.32   \n",
       "\n",
       "                                               metar snowdepth DAY MONTH hour  \\\n",
       "0  KRDU 010500Z AUTO 15804KT 15SM 14/12 RMK SLP14...         M   1    11    0   \n",
       "1  KRDU 010600Z AUTO 22504KT 15SM 15/12 RMK SLP14...         M   1    11    1   \n",
       "2  KRDU 010700Z AUTO 22503KT 15SM 14/12 RMK SLP14...         M   1    11    2   \n",
       "3  KRDU 010800Z AUTO 22504KT 15SM 13/11 RMK SLP14...         M   1    11    3   \n",
       "4  KRDU 010900Z AUTO 22503KT 15SM 12/11 RMK SLP14...         M   1    11    4   \n",
       "\n",
       "  dayofweek  \n",
       "0         3  \n",
       "1         3  \n",
       "2         3  \n",
       "3         3  \n",
       "4         3  \n",
       "\n",
       "[5 rows x 34 columns]"
      ]
     },
     "execution_count": 3,
     "metadata": {},
     "output_type": "execute_result"
    }
   ],
   "source": [
    "weather_data['DAY'] = weather_data['valid'].dt.day\n",
    "weather_data['MONTH'] = weather_data['valid'].dt.month\n",
    "weather_data[\"hour\"]=weather_data[\"valid\"].dt.hour\n",
    "weather_data[\"dayofweek\"] = weather_data[\"valid\"].dt.dayofweek\n",
    "weather_data.head()"
   ]
  },
  {
   "cell_type": "code",
   "execution_count": 4,
   "metadata": {},
   "outputs": [],
   "source": [
    "weather_data[\"tmpf\"] = pd.to_numeric(weather_data[\"tmpf\"], errors=\"coerce\")\n"
   ]
  },
  {
   "cell_type": "markdown",
   "metadata": {},
   "source": [
    "## Separating Training Set From Test Set"
   ]
  },
  {
   "cell_type": "code",
   "execution_count": 5,
   "metadata": {},
   "outputs": [],
   "source": [
    "# Define test window\n",
    "start_date = \"2025-09-17 00:00:00\"\n",
    "end_date   = \"2025-09-30 23:00:00\"\n",
    "\n",
    "# Test set\n",
    "mask_test = (weather_data[\"valid\"] >= start_date) & (weather_data[\"valid\"] <= end_date)\n",
    "test_data = weather_data.loc[mask_test]\n",
    "\n",
    "# Training set = everything before test window\n",
    "mask_train = (weather_data[\"valid\"] < start_date)\n",
    "train_data = weather_data.loc[mask_train]\n"
   ]
  },
  {
   "cell_type": "markdown",
   "metadata": {},
   "source": [
    "## Looks noisy"
   ]
  },
  {
   "cell_type": "code",
   "execution_count": null,
   "metadata": {},
   "outputs": [
    {
     "data": {
      "image/png": "[encoded data removed]",
      "text/plain": [
       "<Figure size 1200x600 with 1 Axes>"
      ]
     },
     "metadata": {},
     "output_type": "display_data"
    }
   ],
   "source": [
    "import matplotlib.pyplot as plt\n",
    "\n",
    "plt.figure(figsize=(12,6))\n",
    "plt.plot(train_data[\"valid\"], train_data[\"tmpf\"], color=\"tab:red\")\n",
    "plt.xlabel(\"Date\")\n",
    "plt.ylabel(\"Temperature (°F)\")\n",
    "plt.title(\"Hourly Temperature at RDU (before September 17th)\")\n",
    "plt.show()\n"
   ]
  },
  {
   "cell_type": "markdown",
   "metadata": {},
   "source": [
    "## Smoothening the noise\n",
    "## Smoothened but still noisy because of the volume of data"
   ]
  },
  {
   "cell_type": "code",
   "execution_count": 13,
   "metadata": {},
   "outputs": [
    {
     "name": "stdout",
     "output_type": "stream",
     "text": [
      "<class 'pandas.core.indexes.datetimes.DatetimeIndex'> DatetimeIndex(['1945-11-01 00:00:00', '1945-11-01 01:00:00',\n",
      "               '1945-11-01 02:00:00'],\n",
      "              dtype='datetime64[ns]', name='valid', freq=None)\n"
     ]
    },
    {
     "data": {
      "image/png": "[encoded data removed]",
      "text/plain": [
       "<Figure size 1000x400 with 1 Axes>"
      ]
     },
     "metadata": {},
     "output_type": "display_data"
    }
   ],
   "source": [
    "# 2) set it as the index (assign the result)\n",
    "df_filtered = train_data.set_index('valid')\n",
    "# Or: df_filtered.set_index('valid', inplace=True)\n",
    "\n",
    "# 3) confirm the index is a DatetimeIndex\n",
    "print(type(df_filtered.index), df_filtered.index[:3])\n",
    "\n",
    "# 4) plot the 24-hour rolling mean with nicer date ticks\n",
    "ax = df_filtered['tmpf'].rolling(window=24).mean().plot(figsize=(10,4))\n",
    "ax.set_ylabel('Temperature (°F)')\n",
    "ax.set_title('24-hr rolling mean of tmpf')\n",
    "plt.gcf().autofmt_xdate()   # rotate and format date labels\n",
    "plt.show()\n"
   ]
  },
  {
   "cell_type": "markdown",
   "metadata": {},
   "source": [
    "## Checking for missing values"
   ]
  },
  {
   "cell_type": "code",
   "execution_count": 15,
   "metadata": {},
   "outputs": [
    {
     "name": "stdout",
     "output_type": "stream",
     "text": [
      "Length: 720742\n",
      "NaNs in tmpf: 22550\n",
      "0.03128720124538323\n"
     ]
    },
    {
     "data": {
      "text/html": [
       "<div>\n",
       "<style scoped>\n",
       "    .dataframe tbody tr th:only-of-type {\n",
       "        vertical-align: middle;\n",
       "    }\n",
       "\n",
       "    .dataframe tbody tr th {\n",
       "        vertical-align: top;\n",
       "    }\n",
       "\n",
       "    .dataframe thead th {\n",
       "        text-align: right;\n",
       "    }\n",
       "</style>\n",
       "<table border=\"1\" class=\"dataframe\">\n",
       "  <thead>\n",
       "    <tr style=\"text-align: right;\">\n",
       "      <th></th>\n",
       "      <th>station</th>\n",
       "      <th>valid</th>\n",
       "      <th>tmpf</th>\n",
       "      <th>dwpf</th>\n",
       "      <th>relh</th>\n",
       "      <th>drct</th>\n",
       "      <th>sknt</th>\n",
       "      <th>p01i</th>\n",
       "      <th>alti</th>\n",
       "      <th>mslp</th>\n",
       "      <th>...</th>\n",
       "      <th>peak_wind_gust</th>\n",
       "      <th>peak_wind_drct</th>\n",
       "      <th>peak_wind_time</th>\n",
       "      <th>feel</th>\n",
       "      <th>metar</th>\n",
       "      <th>snowdepth</th>\n",
       "      <th>DAY</th>\n",
       "      <th>MONTH</th>\n",
       "      <th>hour</th>\n",
       "      <th>dayofweek</th>\n",
       "    </tr>\n",
       "  </thead>\n",
       "  <tbody>\n",
       "    <tr>\n",
       "      <th>4826</th>\n",
       "      <td>RDU</td>\n",
       "      <td>1946-05-21 16:00:00</td>\n",
       "      <td>NaN</td>\n",
       "      <td>M</td>\n",
       "      <td>M</td>\n",
       "      <td>338.00</td>\n",
       "      <td>19.00</td>\n",
       "      <td>M</td>\n",
       "      <td>M</td>\n",
       "      <td>1012.20</td>\n",
       "      <td>...</td>\n",
       "      <td>M</td>\n",
       "      <td>M</td>\n",
       "      <td>M</td>\n",
       "      <td>M</td>\n",
       "      <td>KRDU 212000Z AUTO 33819KT 20SM RMK SLP122 IEM_...</td>\n",
       "      <td>M</td>\n",
       "      <td>21</td>\n",
       "      <td>5</td>\n",
       "      <td>16</td>\n",
       "      <td>1</td>\n",
       "    </tr>\n",
       "    <tr>\n",
       "      <th>6492</th>\n",
       "      <td>RDU</td>\n",
       "      <td>1946-07-30 05:00:00</td>\n",
       "      <td>NaN</td>\n",
       "      <td>M</td>\n",
       "      <td>M</td>\n",
       "      <td>90.00</td>\n",
       "      <td>6.00</td>\n",
       "      <td>M</td>\n",
       "      <td>M</td>\n",
       "      <td>1019.60</td>\n",
       "      <td>...</td>\n",
       "      <td>M</td>\n",
       "      <td>M</td>\n",
       "      <td>M</td>\n",
       "      <td>M</td>\n",
       "      <td>KRDU 300900Z AUTO 09006KT 10SM RMK SLP196 IEM_...</td>\n",
       "      <td>M</td>\n",
       "      <td>30</td>\n",
       "      <td>7</td>\n",
       "      <td>5</td>\n",
       "      <td>1</td>\n",
       "    </tr>\n",
       "    <tr>\n",
       "      <th>25594</th>\n",
       "      <td>RDU</td>\n",
       "      <td>1948-10-09 12:00:00</td>\n",
       "      <td>NaN</td>\n",
       "      <td>M</td>\n",
       "      <td>M</td>\n",
       "      <td>270.00</td>\n",
       "      <td>9.00</td>\n",
       "      <td>M</td>\n",
       "      <td>29.97</td>\n",
       "      <td>1014.90</td>\n",
       "      <td>...</td>\n",
       "      <td>M</td>\n",
       "      <td>M</td>\n",
       "      <td>M</td>\n",
       "      <td>M</td>\n",
       "      <td>METAR KRDU 091700Z 27009KT 15SM CLR  A//// RMK...</td>\n",
       "      <td>M</td>\n",
       "      <td>9</td>\n",
       "      <td>10</td>\n",
       "      <td>12</td>\n",
       "      <td>5</td>\n",
       "    </tr>\n",
       "    <tr>\n",
       "      <th>25725</th>\n",
       "      <td>RDU</td>\n",
       "      <td>1948-10-15 01:00:00</td>\n",
       "      <td>NaN</td>\n",
       "      <td>M</td>\n",
       "      <td>M</td>\n",
       "      <td>0.00</td>\n",
       "      <td>0.00</td>\n",
       "      <td>M</td>\n",
       "      <td>M</td>\n",
       "      <td>M</td>\n",
       "      <td>...</td>\n",
       "      <td>M</td>\n",
       "      <td>M</td>\n",
       "      <td>M</td>\n",
       "      <td>M</td>\n",
       "      <td>METAR KRDU 150600Z 00000KT 1/8SM FG  A//// RMK...</td>\n",
       "      <td>M</td>\n",
       "      <td>15</td>\n",
       "      <td>10</td>\n",
       "      <td>1</td>\n",
       "      <td>4</td>\n",
       "    </tr>\n",
       "    <tr>\n",
       "      <th>30090</th>\n",
       "      <td>RDU</td>\n",
       "      <td>1949-04-15 07:00:00</td>\n",
       "      <td>NaN</td>\n",
       "      <td>M</td>\n",
       "      <td>M</td>\n",
       "      <td>200.00</td>\n",
       "      <td>13.00</td>\n",
       "      <td>M</td>\n",
       "      <td>29.77</td>\n",
       "      <td>1008.20</td>\n",
       "      <td>...</td>\n",
       "      <td>M</td>\n",
       "      <td>M</td>\n",
       "      <td>M</td>\n",
       "      <td>M</td>\n",
       "      <td>METAR KRDU 151200Z 20013KT 15SM CLR  A//// RMK...</td>\n",
       "      <td>M</td>\n",
       "      <td>15</td>\n",
       "      <td>4</td>\n",
       "      <td>7</td>\n",
       "      <td>4</td>\n",
       "    </tr>\n",
       "    <tr>\n",
       "      <th>52817</th>\n",
       "      <td>RDU</td>\n",
       "      <td>1951-11-20 14:00:00</td>\n",
       "      <td>NaN</td>\n",
       "      <td>M</td>\n",
       "      <td>M</td>\n",
       "      <td>320.00</td>\n",
       "      <td>5.00</td>\n",
       "      <td>M</td>\n",
       "      <td>30.37</td>\n",
       "      <td>1028.4</td>\n",
       "      <td>...</td>\n",
       "      <td>M</td>\n",
       "      <td>M</td>\n",
       "      <td>M</td>\n",
       "      <td>M</td>\n",
       "      <td>METAR KRDU 201900Z 32005KT 20SM CLR  A//// RMK...</td>\n",
       "      <td>M</td>\n",
       "      <td>20</td>\n",
       "      <td>11</td>\n",
       "      <td>14</td>\n",
       "      <td>1</td>\n",
       "    </tr>\n",
       "    <tr>\n",
       "      <th>74586</th>\n",
       "      <td>RDU</td>\n",
       "      <td>1954-05-17 13:00:00</td>\n",
       "      <td>NaN</td>\n",
       "      <td>M</td>\n",
       "      <td>M</td>\n",
       "      <td>270.00</td>\n",
       "      <td>7.00</td>\n",
       "      <td>M</td>\n",
       "      <td>29.90</td>\n",
       "      <td>1012.5</td>\n",
       "      <td>...</td>\n",
       "      <td>M</td>\n",
       "      <td>M</td>\n",
       "      <td>M</td>\n",
       "      <td>M</td>\n",
       "      <td>METAR KRDU 171700Z 27007KT 15SM SCT/// BKN/// ...</td>\n",
       "      <td>M</td>\n",
       "      <td>17</td>\n",
       "      <td>5</td>\n",
       "      <td>13</td>\n",
       "      <td>0</td>\n",
       "    </tr>\n",
       "    <tr>\n",
       "      <th>81996</th>\n",
       "      <td>RDU</td>\n",
       "      <td>1955-03-22 17:00:00</td>\n",
       "      <td>NaN</td>\n",
       "      <td>M</td>\n",
       "      <td>M</td>\n",
       "      <td>290.00</td>\n",
       "      <td>20.00</td>\n",
       "      <td>M</td>\n",
       "      <td>29.53</td>\n",
       "      <td>1000.0</td>\n",
       "      <td>...</td>\n",
       "      <td>M</td>\n",
       "      <td>M</td>\n",
       "      <td>M</td>\n",
       "      <td>M</td>\n",
       "      <td>METAR KRDU 222200Z 29020KT 15SM SCT/// SCT/// ...</td>\n",
       "      <td>M</td>\n",
       "      <td>22</td>\n",
       "      <td>3</td>\n",
       "      <td>17</td>\n",
       "      <td>1</td>\n",
       "    </tr>\n",
       "    <tr>\n",
       "      <th>89647</th>\n",
       "      <td>RDU</td>\n",
       "      <td>1956-02-04 17:00:00</td>\n",
       "      <td>NaN</td>\n",
       "      <td>M</td>\n",
       "      <td>M</td>\n",
       "      <td>340.00</td>\n",
       "      <td>5.00</td>\n",
       "      <td>0.02</td>\n",
       "      <td>30.07</td>\n",
       "      <td>1018.3</td>\n",
       "      <td>...</td>\n",
       "      <td>M</td>\n",
       "      <td>M</td>\n",
       "      <td>M</td>\n",
       "      <td>M</td>\n",
       "      <td>METAR KRDU 042200Z 34005KT 4SM -RA FG SCT/// O...</td>\n",
       "      <td>M</td>\n",
       "      <td>4</td>\n",
       "      <td>2</td>\n",
       "      <td>17</td>\n",
       "      <td>5</td>\n",
       "    </tr>\n",
       "    <tr>\n",
       "      <th>202788</th>\n",
       "      <td>RDU</td>\n",
       "      <td>1973-01-01 05:28:00</td>\n",
       "      <td>NaN</td>\n",
       "      <td>M</td>\n",
       "      <td>M</td>\n",
       "      <td>200.00</td>\n",
       "      <td>11.00</td>\n",
       "      <td>M</td>\n",
       "      <td>30.09</td>\n",
       "      <td>M</td>\n",
       "      <td>...</td>\n",
       "      <td>M</td>\n",
       "      <td>M</td>\n",
       "      <td>M</td>\n",
       "      <td>M</td>\n",
       "      <td>KRDU 011028Z AUTO 20011KT 7SM A3009 RMK IEM_DS...</td>\n",
       "      <td>M</td>\n",
       "      <td>1</td>\n",
       "      <td>1</td>\n",
       "      <td>5</td>\n",
       "      <td>0</td>\n",
       "    </tr>\n",
       "  </tbody>\n",
       "</table>\n",
       "<p>10 rows × 34 columns</p>\n",
       "</div>"
      ],
      "text/plain": [
       "       station               valid  tmpf dwpf relh    drct   sknt  p01i  \\\n",
       "4826       RDU 1946-05-21 16:00:00   NaN    M    M  338.00  19.00     M   \n",
       "6492       RDU 1946-07-30 05:00:00   NaN    M    M   90.00   6.00     M   \n",
       "25594      RDU 1948-10-09 12:00:00   NaN    M    M  270.00   9.00     M   \n",
       "25725      RDU 1948-10-15 01:00:00   NaN    M    M    0.00   0.00     M   \n",
       "30090      RDU 1949-04-15 07:00:00   NaN    M    M  200.00  13.00     M   \n",
       "52817      RDU 1951-11-20 14:00:00   NaN    M    M  320.00   5.00     M   \n",
       "74586      RDU 1954-05-17 13:00:00   NaN    M    M  270.00   7.00     M   \n",
       "81996      RDU 1955-03-22 17:00:00   NaN    M    M  290.00  20.00     M   \n",
       "89647      RDU 1956-02-04 17:00:00   NaN    M    M  340.00   5.00  0.02   \n",
       "202788     RDU 1973-01-01 05:28:00   NaN    M    M  200.00  11.00     M   \n",
       "\n",
       "         alti     mslp  ... peak_wind_gust peak_wind_drct peak_wind_time feel  \\\n",
       "4826        M  1012.20  ...              M              M              M    M   \n",
       "6492        M  1019.60  ...              M              M              M    M   \n",
       "25594   29.97  1014.90  ...              M              M              M    M   \n",
       "25725       M        M  ...              M              M              M    M   \n",
       "30090   29.77  1008.20  ...              M              M              M    M   \n",
       "52817   30.37   1028.4  ...              M              M              M    M   \n",
       "74586   29.90   1012.5  ...              M              M              M    M   \n",
       "81996   29.53   1000.0  ...              M              M              M    M   \n",
       "89647   30.07   1018.3  ...              M              M              M    M   \n",
       "202788  30.09        M  ...              M              M              M    M   \n",
       "\n",
       "                                                    metar snowdepth DAY MONTH  \\\n",
       "4826    KRDU 212000Z AUTO 33819KT 20SM RMK SLP122 IEM_...         M  21     5   \n",
       "6492    KRDU 300900Z AUTO 09006KT 10SM RMK SLP196 IEM_...         M  30     7   \n",
       "25594   METAR KRDU 091700Z 27009KT 15SM CLR  A//// RMK...         M   9    10   \n",
       "25725   METAR KRDU 150600Z 00000KT 1/8SM FG  A//// RMK...         M  15    10   \n",
       "30090   METAR KRDU 151200Z 20013KT 15SM CLR  A//// RMK...         M  15     4   \n",
       "52817   METAR KRDU 201900Z 32005KT 20SM CLR  A//// RMK...         M  20    11   \n",
       "74586   METAR KRDU 171700Z 27007KT 15SM SCT/// BKN/// ...         M  17     5   \n",
       "81996   METAR KRDU 222200Z 29020KT 15SM SCT/// SCT/// ...         M  22     3   \n",
       "89647   METAR KRDU 042200Z 34005KT 4SM -RA FG SCT/// O...         M   4     2   \n",
       "202788  KRDU 011028Z AUTO 20011KT 7SM A3009 RMK IEM_DS...         M   1     1   \n",
       "\n",
       "       hour dayofweek  \n",
       "4826     16         1  \n",
       "6492      5         1  \n",
       "25594    12         5  \n",
       "25725     1         4  \n",
       "30090     7         4  \n",
       "52817    14         1  \n",
       "74586    13         0  \n",
       "81996    17         1  \n",
       "89647    17         5  \n",
       "202788    5         0  \n",
       "\n",
       "[10 rows x 34 columns]"
      ]
     },
     "execution_count": 15,
     "metadata": {},
     "output_type": "execute_result"
    }
   ],
   "source": [
    "# after you set the index\n",
    "#train_data = train_data.set_index(\"valid\")\n",
    "\n",
    "# quick checks\n",
    "print(\"Length:\", len(train_data))\n",
    "print(\"NaNs in tmpf:\", train_data[\"tmpf\"].isna().sum())\n",
    "print(train_data[\"tmpf\"].isna().sum() / len(train_data))  # fraction missing\n",
    "\n",
    "# show the first few missing rows (if any)\n",
    "train_data[train_data[\"tmpf\"].isna()].head(10)\n"
   ]
  },
  {
   "cell_type": "markdown",
   "metadata": {},
   "source": [
    "## making index regular hourly"
   ]
  },
  {
   "cell_type": "code",
   "execution_count": 18,
   "metadata": {},
   "outputs": [
    {
     "name": "stdout",
     "output_type": "stream",
     "text": [
      "NaNs after impute: 0\n"
     ]
    }
   ],
   "source": [
    "# Option A — time interpolation (good for datetime index)\n",
    "df_filtered['tmpf_interpolated'] = df_filtered['tmpf'].interpolate(method='time')\n",
    "\n",
    "# Check still missing\n",
    "print(\"NaNs after impute:\", df_filtered['tmpf_interpolated'].isna().sum())\n"
   ]
  },
  {
   "cell_type": "markdown",
   "metadata": {},
   "source": [
    "## When valid is made the index, we see that there are duplicate rows but they have slightly different values for specific features, that means this is from the dataset itself"
   ]
  },
  {
   "cell_type": "code",
   "execution_count": 23,
   "metadata": {},
   "outputs": [
    {
     "name": "stdout",
     "output_type": "stream",
     "text": [
      "Number of duplicate rows: 146\n",
      "\n",
      "=== 1946-09-29 01:00:00 ===\n",
      "                    station   tmpf   dwpf   relh   drct  sknt p01i alti  \\\n",
      "valid                                                                     \n",
      "1946-09-29 01:00:00     RDU  67.28  65.30  93.36  23.00  6.00    M    M   \n",
      "1946-09-29 01:00:00     RDU  67.28  66.38  96.93  68.00  6.00    M    M   \n",
      "\n",
      "                        mslp  vsby  ... peak_wind_drct peak_wind_time   feel  \\\n",
      "valid                               ...                                        \n",
      "1946-09-29 01:00:00  1021.00  10.0  ...              M              M  67.28   \n",
      "1946-09-29 01:00:00  1020.70   8.0  ...              M              M  67.28   \n",
      "\n",
      "                                                                 metar  \\\n",
      "valid                                                                    \n",
      "1946-09-29 01:00:00  KRDU 290500Z AUTO 02306KT 10SM 20/18 RMK SLP21...   \n",
      "1946-09-29 01:00:00  KRDU 290600Z AUTO 06806KT 8SM 20/19 RMK SLP207...   \n",
      "\n",
      "                    snowdepth DAY MONTH hour dayofweek tmpf_interpolated  \n",
      "valid                                                                     \n",
      "1946-09-29 01:00:00         M  29     9    1         6             67.28  \n",
      "1946-09-29 01:00:00         M  29     9    1         6             67.28  \n",
      "\n",
      "[2 rows x 34 columns]\n",
      "\n",
      "=== 1947-09-28 01:00:00 ===\n",
      "                    station   tmpf   dwpf   relh   drct  sknt p01i   alti  \\\n",
      "valid                                                                       \n",
      "1947-09-28 01:00:00     RDU  43.34  37.40  79.41  20.00  3.00    M  30.51   \n",
      "1947-09-28 01:00:00     RDU  42.44  36.32  78.77  20.00  4.00    M  30.50   \n",
      "\n",
      "                        mslp  vsby  ... peak_wind_drct peak_wind_time   feel  \\\n",
      "valid                               ...                                        \n",
      "1947-09-28 01:00:00  1033.20  15.0  ...              M              M  41.65   \n",
      "1947-09-28 01:00:00  1032.90  15.0  ...              M              M  39.61   \n",
      "\n",
      "                                                                 metar  \\\n",
      "valid                                                                    \n",
      "1947-09-28 01:00:00  METAR KRDU 280500Z 02003KT 15SM CLR 06/03 A///...   \n",
      "1947-09-28 01:00:00  METAR KRDU 280600Z 02004KT 15SM CLR 06/02 A///...   \n",
      "\n",
      "                    snowdepth DAY MONTH hour dayofweek tmpf_interpolated  \n",
      "valid                                                                     \n",
      "1947-09-28 01:00:00         M  28     9    1         6             43.34  \n",
      "1947-09-28 01:00:00         M  28     9    1         6             42.44  \n",
      "\n",
      "[2 rows x 34 columns]\n",
      "\n",
      "=== 1948-09-26 01:00:00 ===\n",
      "                    station  tmpf   dwpf   relh    drct  sknt p01i   alti  \\\n",
      "valid                                                                       \n",
      "1948-09-26 01:00:00     RDU  55.0  46.00  71.60  360.00  6.00    M  30.25   \n",
      "1948-09-26 01:00:00     RDU  55.0  46.00  71.60  360.00  9.00    M  30.26   \n",
      "\n",
      "                        mslp  vsby  ... peak_wind_drct peak_wind_time   feel  \\\n",
      "valid                               ...                                        \n",
      "1948-09-26 01:00:00  1024.40  10.0  ...              M              M  55.04   \n",
      "1948-09-26 01:00:00  1024.70  10.0  ...              M              M  55.04   \n",
      "\n",
      "                                                                 metar  \\\n",
      "valid                                                                    \n",
      "1948-09-26 01:00:00  METAR KRDU 260500Z 36006KT 10SM CLR 13/08 A///...   \n",
      "1948-09-26 01:00:00  METAR KRDU 260600Z 36009KT 10SM 13/08 A//// RM...   \n",
      "\n",
      "                    snowdepth DAY MONTH hour dayofweek tmpf_interpolated  \n",
      "valid                                                                     \n",
      "1948-09-26 01:00:00         M  26     9    1         6              55.0  \n",
      "1948-09-26 01:00:00         M  26     9    1         6              55.0  \n",
      "\n",
      "[2 rows x 34 columns]\n",
      "\n",
      "=== 1949-09-25 01:00:00 ===\n",
      "                    station  tmpf   dwpf   relh  drct  sknt p01i   alti  \\\n",
      "valid                                                                     \n",
      "1949-09-25 01:00:00     RDU  47.0  46.00  96.66  0.00  0.00    M  30.21   \n",
      "1949-09-25 01:00:00     RDU  44.0  43.00  95.95  0.00  0.00    M  30.22   \n",
      "\n",
      "                       mslp  vsby  ... peak_wind_drct peak_wind_time   feel  \\\n",
      "valid                              ...                                        \n",
      "1949-09-25 01:00:00  1023.0  15.0  ...              M              M  46.94   \n",
      "1949-09-25 01:00:00  1023.4  15.0  ...              M              M  44.06   \n",
      "\n",
      "                                                                 metar  \\\n",
      "valid                                                                    \n",
      "1949-09-25 01:00:00  METAR KRDU 250500Z 00000KT 15SM CLR 08/08 A///...   \n",
      "1949-09-25 01:00:00  METAR KRDU 250600Z 00000KT 15SM CLR 07/06 A///...   \n",
      "\n",
      "                    snowdepth DAY MONTH hour dayofweek tmpf_interpolated  \n",
      "valid                                                                     \n",
      "1949-09-25 01:00:00         M  25     9    1         6              47.0  \n",
      "1949-09-25 01:00:00         M  25     9    1         6              44.0  \n",
      "\n",
      "[2 rows x 34 columns]\n",
      "\n",
      "=== 1950-09-24 01:00:00 ===\n",
      "                    station  tmpf   dwpf   relh    drct  sknt p01i   alti  \\\n",
      "valid                                                                       \n",
      "1950-09-24 01:00:00     RDU  63.0  59.00  86.90  360.00  3.00    M  29.82   \n",
      "1950-09-24 01:00:00     RDU  64.0  57.00  77.92  360.00  3.00    M  29.83   \n",
      "\n",
      "                       mslp  vsby  ... peak_wind_drct peak_wind_time   feel  \\\n",
      "valid                              ...                                        \n",
      "1950-09-24 01:00:00  1009.8  15.0  ...              M              M  62.96   \n",
      "1950-09-24 01:00:00  1010.2  10.0  ...              M              M  64.04   \n",
      "\n",
      "                                                                 metar  \\\n",
      "valid                                                                    \n",
      "1950-09-24 01:00:00  METAR KRDU 240500Z 36003KT 15SM CLR 17/15 A///...   \n",
      "1950-09-24 01:00:00  METAR KRDU 240600Z 36003KT 10SM 18/14 A//// RM...   \n",
      "\n",
      "                    snowdepth DAY MONTH hour dayofweek tmpf_interpolated  \n",
      "valid                                                                     \n",
      "1950-09-24 01:00:00         M  24     9    1         6              63.0  \n",
      "1950-09-24 01:00:00         M  24     9    1         6              64.0  \n",
      "\n",
      "[2 rows x 34 columns]\n",
      "\n",
      "=== 1951-09-30 01:00:00 ===\n",
      "                    station  tmpf   dwpf   relh    drct  sknt p01i   alti  \\\n",
      "valid                                                                       \n",
      "1951-09-30 01:00:00     RDU  48.0  40.00  73.39   90.00  8.00    M  30.36   \n",
      "1951-09-30 01:00:00     RDU  48.0  42.00  79.79  110.00  5.00    M  30.36   \n",
      "\n",
      "                       mslp  vsby  ... peak_wind_drct peak_wind_time   feel  \\\n",
      "valid                              ...                                        \n",
      "1951-09-30 01:00:00  1028.1  15.0  ...              M              M  43.85   \n",
      "1951-09-30 01:00:00  1028.1  15.0  ...              M              M  45.42   \n",
      "\n",
      "                                                                 metar  \\\n",
      "valid                                                                    \n",
      "1951-09-30 01:00:00  METAR KRDU 300500Z 09008KT 15SM CLR 09/04 A///...   \n",
      "1951-09-30 01:00:00  METAR KRDU 300600Z 11005KT 15SM CLR 09/06 A///...   \n",
      "\n",
      "                    snowdepth DAY MONTH hour dayofweek tmpf_interpolated  \n",
      "valid                                                                     \n",
      "1951-09-30 01:00:00         M  30     9    1         6              48.0  \n",
      "1951-09-30 01:00:00         M  30     9    1         6              48.0  \n",
      "\n",
      "[2 rows x 34 columns]\n",
      "\n",
      "=== 1952-09-28 01:00:00 ===\n",
      "                    station  tmpf   dwpf   relh   drct  sknt p01i   alti  \\\n",
      "valid                                                                      \n",
      "1952-09-28 01:00:00     RDU  54.0  44.00  69.08  90.00  4.00    M  30.12   \n",
      "1952-09-28 01:00:00     RDU  52.0  44.00  74.29  90.00  5.00    M  30.11   \n",
      "\n",
      "                       mslp  vsby  ... peak_wind_drct peak_wind_time   feel  \\\n",
      "valid                              ...                                        \n",
      "1952-09-28 01:00:00  1020.0  10.0  ...              M              M  53.96   \n",
      "1952-09-28 01:00:00  1019.6  10.0  ...              M              M  51.98   \n",
      "\n",
      "                                                                 metar  \\\n",
      "valid                                                                    \n",
      "1952-09-28 01:00:00  METAR KRDU 280500Z 09004KT 10SM CLR 12/07 A///...   \n",
      "1952-09-28 01:00:00  METAR KRDU 280600Z 09005KT 10SM CLR 11/07 A///...   \n",
      "\n",
      "                    snowdepth DAY MONTH hour dayofweek tmpf_interpolated  \n",
      "valid                                                                     \n",
      "1952-09-28 01:00:00         M  28     9    1         6              54.0  \n",
      "1952-09-28 01:00:00         M  28     9    1         6              52.0  \n",
      "\n",
      "[2 rows x 34 columns]\n",
      "\n",
      "=== 1953-09-27 01:00:00 ===\n",
      "                    station  tmpf   dwpf    relh   drct   sknt  p01i   alti  \\\n",
      "valid                                                                         \n",
      "1953-09-27 01:00:00     RDU  66.0  66.00  100.00  70.00  10.00  0.25  29.90   \n",
      "1953-09-27 01:00:00     RDU  66.0  65.00   96.31  70.00   9.00  0.23  29.89   \n",
      "\n",
      "                       mslp vsby  ... peak_wind_drct peak_wind_time   feel  \\\n",
      "valid                             ...                                        \n",
      "1953-09-27 01:00:00  1012.5  2.5  ...              M              M  66.02   \n",
      "1953-09-27 01:00:00  1012.2  2.5  ...              M              M  66.02   \n",
      "\n",
      "                                                                 metar  \\\n",
      "valid                                                                    \n",
      "1953-09-27 01:00:00  METAR KRDU 270500Z 07010KT 21/2SM -RA FG SCT//...   \n",
      "1953-09-27 01:00:00  METAR KRDU 270600Z 07009KT 21/2SM -RA FG SCT//...   \n",
      "\n",
      "                    snowdepth DAY MONTH hour dayofweek tmpf_interpolated  \n",
      "valid                                                                     \n",
      "1953-09-27 01:00:00         M  27     9    1         6              66.0  \n",
      "1953-09-27 01:00:00         M  27     9    1         6              66.0  \n",
      "\n",
      "[2 rows x 34 columns]\n",
      "\n",
      "=== 1954-09-26 01:00:00 ===\n",
      "                    station  tmpf   dwpf   relh    drct  sknt p01i   alti  \\\n",
      "valid                                                                       \n",
      "1954-09-26 01:00:00     RDU  68.0  60.00  75.78  200.00  6.00    M  30.02   \n",
      "1954-09-26 01:00:00     RDU  67.0  60.00  78.66  200.00  6.00    M  30.01   \n",
      "\n",
      "                       mslp  vsby  ... peak_wind_drct peak_wind_time   feel  \\\n",
      "valid                              ...                                        \n",
      "1954-09-26 01:00:00  1016.6  15.0  ...              M              M  68.00   \n",
      "1954-09-26 01:00:00  1016.3  15.0  ...              M              M  66.92   \n",
      "\n",
      "                                                                 metar  \\\n",
      "valid                                                                    \n",
      "1954-09-26 01:00:00  METAR KRDU 260500Z 20006KT 15SM BKN/// 20/16 A...   \n",
      "1954-09-26 01:00:00  METAR KRDU 260600Z 20006KT 15SM FEW/// 19/16 A...   \n",
      "\n",
      "                    snowdepth DAY MONTH hour dayofweek tmpf_interpolated  \n",
      "valid                                                                     \n",
      "1954-09-26 01:00:00         M  26     9    1         6              68.0  \n",
      "1954-09-26 01:00:00         M  26     9    1         6              67.0  \n",
      "\n",
      "[2 rows x 34 columns]\n",
      "\n",
      "=== 1955-10-30 01:00:00 ===\n",
      "                    station  tmpf   dwpf   relh    drct  sknt  p01i   alti  \\\n",
      "valid                                                                        \n",
      "1955-10-30 01:00:00     RDU  63.0  62.00  96.88  160.00  5.00  0.04  29.64   \n",
      "1955-10-30 01:00:00     RDU  64.0  63.00  96.28  160.00  8.00     M  29.63   \n",
      "\n",
      "                       mslp  vsby  ... peak_wind_drct peak_wind_time   feel  \\\n",
      "valid                              ...                                        \n",
      "1955-10-30 01:00:00  1003.7  15.0  ...              M              M  62.96   \n",
      "1955-10-30 01:00:00  1003.4  10.0  ...              M              M  64.04   \n",
      "\n",
      "                                                                 metar  \\\n",
      "valid                                                                    \n",
      "1955-10-30 01:00:00  METAR KRDU 300500Z 16005KT 15SM BKN/// OVC/// ...   \n",
      "1955-10-30 01:00:00  METAR KRDU 300600Z 16008KT 10SM SCT/// OVC/// ...   \n",
      "\n",
      "                    snowdepth DAY MONTH hour dayofweek tmpf_interpolated  \n",
      "valid                                                                     \n",
      "1955-10-30 01:00:00         M  30    10    1         6              63.0  \n",
      "1955-10-30 01:00:00         M  30    10    1         6              64.0  \n",
      "\n",
      "[2 rows x 34 columns]\n"
     ]
    }
   ],
   "source": [
    "# How many duplicates?\n",
    "dup_mask = df_filtered.index.duplicated(keep=False)\n",
    "print(\"Number of duplicate rows:\", dup_mask.sum())\n",
    "\n",
    "# See a few duplicate timestamps\n",
    "dup_times = df_filtered.index[dup_mask].unique()[:10]\n",
    "for ts in dup_times:\n",
    "    print(\"\\n===\", ts, \"===\")\n",
    "    print(df_filtered.loc[ts])\n"
   ]
  },
  {
   "cell_type": "markdown",
   "metadata": {},
   "source": [
    "## Due to above, we group rows by if they have the same time stamp then find the mean of the values and use that"
   ]
  },
  {
   "cell_type": "markdown",
   "metadata": {},
   "source": [
    "## We first have to convert non numeric columns into numeric columns"
   ]
  },
  {
   "cell_type": "code",
   "execution_count": 25,
   "metadata": {},
   "outputs": [],
   "source": [
    "import pandas as pd\n",
    "\n",
    "def clean_weather(df):\n",
    "    # 1. Drop station (always RDU) and raw text METAR\n",
    "    df = df.drop(columns=[\"station\", \"metar\"], errors=\"ignore\")\n",
    "\n",
    "    # 2. One-hot encode categorical sky cover + weather codes\n",
    "    categorical_cols = [\"skyc1\", \"skyc2\", \"skyc3\", \"skyc4\", \"wxcodes\"]\n",
    "    df = pd.get_dummies(df, columns=categorical_cols, dummy_na=True)\n",
    "\n",
    "    # 3. Convert all remaining object cols to numeric (coerce errors -> NaN)\n",
    "    for col in df.columns:\n",
    "        if df[col].dtype == \"object\":\n",
    "            df[col] = pd.to_numeric(df[col], errors=\"coerce\")\n",
    "\n",
    "    # 4. Make sure datetime index is set\n",
    "    if \"valid\" in df.columns:\n",
    "        df[\"valid\"] = pd.to_datetime(df[\"valid\"], errors=\"coerce\")\n",
    "        df = df.set_index(\"valid\")\n",
    "\n",
    "    # 5. Collapse duplicate timestamps by taking mean across numeric & one-hot cols\n",
    "    df = df.groupby(level=0).mean(numeric_only=True)\n",
    "\n",
    "    return df\n"
   ]
  },
  {
   "cell_type": "code",
   "execution_count": 26,
   "metadata": {},
   "outputs": [
    {
     "name": "stdout",
     "output_type": "stream",
     "text": [
      "Final shape: (720669, 318)\n",
      "Any duplicates left? 0\n",
      "                      tmpf   dwpf   relh   drct  sknt  p01i  alti    mslp  \\\n",
      "valid                                                                       \n",
      "1945-11-01 00:00:00  57.38  53.42  86.60  158.0   4.0   NaN   NaN  1014.9   \n",
      "1945-11-01 01:00:00  58.28  53.42  83.84  225.0   4.0   NaN   NaN  1014.9   \n",
      "1945-11-01 02:00:00  57.38  53.42  86.60  225.0   3.0   NaN   NaN  1014.9   \n",
      "1945-11-01 03:00:00  55.40  52.34  89.41  225.0   4.0   NaN   NaN  1014.6   \n",
      "1945-11-01 04:00:00  54.32  52.34  93.00  225.0   3.0   NaN   NaN  1014.6   \n",
      "\n",
      "                     vsby  gust  ...  wxcodes_VCFG BR  wxcodes_VCSH  \\\n",
      "valid                            ...                                  \n",
      "1945-11-01 00:00:00  15.0   NaN  ...              0.0           0.0   \n",
      "1945-11-01 01:00:00  15.0   NaN  ...              0.0           0.0   \n",
      "1945-11-01 02:00:00  15.0   NaN  ...              0.0           0.0   \n",
      "1945-11-01 03:00:00  15.0   NaN  ...              0.0           0.0   \n",
      "1945-11-01 04:00:00  15.0   NaN  ...              0.0           0.0   \n",
      "\n",
      "                     wxcodes_VCTS  wxcodes_VCTS +RA  wxcodes_VCTS -DZ  \\\n",
      "valid                                                                   \n",
      "1945-11-01 00:00:00           0.0               0.0               0.0   \n",
      "1945-11-01 01:00:00           0.0               0.0               0.0   \n",
      "1945-11-01 02:00:00           0.0               0.0               0.0   \n",
      "1945-11-01 03:00:00           0.0               0.0               0.0   \n",
      "1945-11-01 04:00:00           0.0               0.0               0.0   \n",
      "\n",
      "                     wxcodes_VCTS -DZ BR  wxcodes_VCTS -RA  \\\n",
      "valid                                                        \n",
      "1945-11-01 00:00:00                  0.0               0.0   \n",
      "1945-11-01 01:00:00                  0.0               0.0   \n",
      "1945-11-01 02:00:00                  0.0               0.0   \n",
      "1945-11-01 03:00:00                  0.0               0.0   \n",
      "1945-11-01 04:00:00                  0.0               0.0   \n",
      "\n",
      "                     wxcodes_VCTS -RA BR  wxcodes_VCTS RA BR  wxcodes_nan  \n",
      "valid                                                                      \n",
      "1945-11-01 00:00:00                  0.0                 0.0          0.0  \n",
      "1945-11-01 01:00:00                  0.0                 0.0          0.0  \n",
      "1945-11-01 02:00:00                  0.0                 0.0          0.0  \n",
      "1945-11-01 03:00:00                  0.0                 0.0          0.0  \n",
      "1945-11-01 04:00:00                  0.0                 0.0          0.0  \n",
      "\n",
      "[5 rows x 318 columns]\n"
     ]
    }
   ],
   "source": [
    "df_clean = clean_weather(df_filtered.copy())\n",
    "print(\"Final shape:\", df_clean.shape)\n",
    "print(\"Any duplicates left?\", df_clean.index.duplicated().sum())\n",
    "print(df_clean.head())"
   ]
  },
  {
   "cell_type": "markdown",
   "metadata": {},
   "source": [
    "## Make an hourly series plus check missing"
   ]
  },
  {
   "cell_type": "code",
   "execution_count": 28,
   "metadata": {},
   "outputs": [
    {
     "name": "stdout",
     "output_type": "stream",
     "text": [
      "Hours: 700200 | non-null tmpf: 663912 | null tmpf: 36288\n"
     ]
    }
   ],
   "source": [
    "# Hourly grid (keeps NaN where data is missing)\n",
    "df_hourly = df_clean[['tmpf']].sort_index().resample('H').mean()\n",
    "\n",
    "n_total = len(df_hourly)\n",
    "n_nonnull = df_hourly['tmpf'].notna().sum()\n",
    "print(\"Hours:\", n_total, \"| non-null tmpf:\", n_nonnull, \"| null tmpf:\", n_total - n_nonnull)\n"
   ]
  },
  {
   "cell_type": "markdown",
   "metadata": {},
   "source": [
    "## Checking gap lengths"
   ]
  },
  {
   "cell_type": "code",
   "execution_count": 29,
   "metadata": {},
   "outputs": [
    {
     "name": "stdout",
     "output_type": "stream",
     "text": [
      "Top NaN gaps (start, end, length_hrs):\n",
      "(Timestamp('1946-09-04 09:00:00'), Timestamp('1946-09-07 14:00:00'), 78)\n",
      "(Timestamp('1946-09-24 02:00:00'), Timestamp('1946-09-26 11:00:00'), 58)\n",
      "(Timestamp('1996-02-28 01:00:00'), Timestamp('1996-02-28 23:00:00'), 23)\n",
      "(Timestamp('2000-02-21 00:00:00'), Timestamp('2000-02-21 17:00:00'), 18)\n",
      "(Timestamp('2000-11-12 01:00:00'), Timestamp('2000-11-12 14:00:00'), 14)\n",
      "(Timestamp('2008-12-02 19:00:00'), Timestamp('2008-12-03 07:00:00'), 13)\n",
      "(Timestamp('2000-02-28 08:00:00'), Timestamp('2000-02-28 17:00:00'), 10)\n",
      "(Timestamp('2000-01-01 00:00:00'), Timestamp('2000-01-01 08:00:00'), 9)\n",
      "(Timestamp('1996-06-30 20:00:00'), Timestamp('1996-07-01 03:00:00'), 8)\n",
      "(Timestamp('2000-01-15 06:00:00'), Timestamp('2000-01-15 13:00:00'), 8)\n"
     ]
    }
   ],
   "source": [
    "import pandas as pd\n",
    "\n",
    "isna = df_hourly['tmpf'].isna().astype(int).values\n",
    "idx = df_hourly.index\n",
    "\n",
    "gap_runs = []\n",
    "start_i = None\n",
    "for i, v in enumerate(isna):\n",
    "    if v == 1 and start_i is None:\n",
    "        start_i = i\n",
    "    if (v == 0 or i == len(isna)-1) and start_i is not None:\n",
    "        end_i = i-1 if v == 0 else i\n",
    "        length = end_i - start_i + 1  # hours (since hourly grid)\n",
    "        gap_runs.append((idx[start_i], idx[end_i], length))\n",
    "        start_i = None\n",
    "\n",
    "# Show the biggest 10 gaps\n",
    "gap_runs_sorted = sorted(gap_runs, key=lambda x: x[2], reverse=True)\n",
    "print(\"Top NaN gaps (start, end, length_hrs):\")\n",
    "for r in gap_runs_sorted[:10]:\n",
    "    print(r)\n"
   ]
  },
  {
   "cell_type": "markdown",
   "metadata": {},
   "source": [
    "## Interpolate small gaps"
   ]
  },
  {
   "cell_type": "code",
   "execution_count": 30,
   "metadata": {},
   "outputs": [
    {
     "name": "stdout",
     "output_type": "stream",
     "text": [
      "Nulls before: 36288 | after: 180\n"
     ]
    }
   ],
   "source": [
    "# Fill interior gaps up to 3 consecutive hours; leave long gaps untouched\n",
    "df_hourly['tmpf_interp'] = df_hourly['tmpf'].interpolate(\n",
    "    method='time',\n",
    "    limit=3,                 # <= 3 consecutive NaNs only\n",
    "    limit_direction='both',  # allow forward/backward within the interior\n",
    "    limit_area='inside'      # do NOT fill at the edges\n",
    ")\n",
    "\n",
    "print(\"Nulls before:\", df_hourly['tmpf'].isna().sum(),\n",
    "      \"| after:\", df_hourly['tmpf_interp'].isna().sum())\n"
   ]
  },
  {
   "cell_type": "markdown",
   "metadata": {},
   "source": [
    "## Verify whats left"
   ]
  },
  {
   "cell_type": "code",
   "execution_count": 31,
   "metadata": {},
   "outputs": [
    {
     "name": "stdout",
     "output_type": "stream",
     "text": [
      "Remaining NaN gaps (should be > 3 hrs):\n",
      "(Timestamp('1946-09-04 12:00:00'), Timestamp('1946-09-07 11:00:00'), 72)\n",
      "(Timestamp('1946-09-24 05:00:00'), Timestamp('1946-09-26 08:00:00'), 52)\n",
      "(Timestamp('1996-02-28 04:00:00'), Timestamp('1996-02-28 20:00:00'), 17)\n",
      "(Timestamp('2000-02-21 03:00:00'), Timestamp('2000-02-21 14:00:00'), 12)\n",
      "(Timestamp('2000-11-12 04:00:00'), Timestamp('2000-11-12 11:00:00'), 8)\n",
      "(Timestamp('2008-12-02 22:00:00'), Timestamp('2008-12-03 04:00:00'), 7)\n",
      "(Timestamp('2000-02-28 11:00:00'), Timestamp('2000-02-28 14:00:00'), 4)\n",
      "(Timestamp('2000-01-01 03:00:00'), Timestamp('2000-01-01 05:00:00'), 3)\n",
      "(Timestamp('1996-06-30 23:00:00'), Timestamp('1996-07-01 00:00:00'), 2)\n",
      "(Timestamp('2000-01-15 09:00:00'), Timestamp('2000-01-15 10:00:00'), 2)\n"
     ]
    }
   ],
   "source": [
    "isna_after = df_hourly['tmpf_interp'].isna().astype(int).values\n",
    "idx = df_hourly.index\n",
    "\n",
    "remaining_gaps = []\n",
    "start_i = None\n",
    "for i, v in enumerate(isna_after):\n",
    "    if v == 1 and start_i is None:\n",
    "        start_i = i\n",
    "    if (v == 0 or i == len(isna_after)-1) and start_i is not None:\n",
    "        end_i = i-1 if v == 0 else i\n",
    "        length = end_i - start_i + 1\n",
    "        remaining_gaps.append((idx[start_i], idx[end_i], length))\n",
    "        start_i = None\n",
    "\n",
    "remaining_gaps_sorted = sorted(remaining_gaps, key=lambda x: x[2], reverse=True)\n",
    "print(\"Remaining NaN gaps (should be > 3 hrs):\")\n",
    "for r in remaining_gaps_sorted[:10]:\n",
    "    print(r)\n"
   ]
  },
  {
   "cell_type": "markdown",
   "metadata": {},
   "source": [
    "## Dropping the ones with NANS"
   ]
  },
  {
   "cell_type": "code",
   "execution_count": 34,
   "metadata": {},
   "outputs": [],
   "source": [
    "df_hourly = df_hourly.dropna(subset=['tmpf'])\n"
   ]
  },
  {
   "cell_type": "code",
   "execution_count": 36,
   "metadata": {},
   "outputs": [
    {
     "name": "stdout",
     "output_type": "stream",
     "text": [
      "Remaining NaNs: 0\n",
      "Final shape: (700020, 1)\n"
     ]
    }
   ],
   "source": [
    "print(\"Remaining NaNs:\", df_hourly['tmpf'].isna().sum())\n",
    "print(\"Final shape:\", df_hourly.shape)\n"
   ]
  },
  {
   "cell_type": "markdown",
   "metadata": {},
   "source": [
    "##Seasonal Decomposition (daily,weekly,yearly cycles)"
   ]
  },
  {
   "cell_type": "code",
   "execution_count": 37,
   "metadata": {},
   "outputs": [
    {
     "data": {
      "image/png": "[encoded data removed]",
      "text/plain": [
       "<Figure size 640x480 with 4 Axes>"
      ]
     },
     "metadata": {},
     "output_type": "display_data"
    }
   ],
   "source": [
    "import statsmodels.api as sm\n",
    "import matplotlib.pyplot as plt\n",
    "\n",
    "decomposition = sm.tsa.seasonal_decompose(\n",
    "    df_hourly['tmpf'], model='additive', period=24, extrapolate_trend='freq'\n",
    ")\n",
    "decomposition.plot()\n",
    "plt.show()\n"
   ]
  },
  {
   "cell_type": "markdown",
   "metadata": {},
   "source": [
    "## Feature Engineering for forecasting"
   ]
  },
  {
   "cell_type": "code",
   "execution_count": 38,
   "metadata": {},
   "outputs": [],
   "source": [
    "df_hourly['lag1'] = df_hourly['tmpf'].shift(1)        # 1-hour lag\n",
    "df_hourly['rolling24'] = df_hourly['tmpf'].rolling(24).mean()  # daily avg\n",
    "df_hourly = df_hourly.dropna()\n"
   ]
  },
  {
   "cell_type": "markdown",
   "metadata": {},
   "source": [
    "## Inspecting df_hourly"
   ]
  },
  {
   "cell_type": "code",
   "execution_count": 41,
   "metadata": {},
   "outputs": [
    {
     "data": {
      "text/html": [
       "<div>\n",
       "<style scoped>\n",
       "    .dataframe tbody tr th:only-of-type {\n",
       "        vertical-align: middle;\n",
       "    }\n",
       "\n",
       "    .dataframe tbody tr th {\n",
       "        vertical-align: top;\n",
       "    }\n",
       "\n",
       "    .dataframe thead th {\n",
       "        text-align: right;\n",
       "    }\n",
       "</style>\n",
       "<table border=\"1\" class=\"dataframe\">\n",
       "  <thead>\n",
       "    <tr style=\"text-align: right;\">\n",
       "      <th></th>\n",
       "      <th>tmpf</th>\n",
       "      <th>lag1</th>\n",
       "      <th>rolling24</th>\n",
       "    </tr>\n",
       "    <tr>\n",
       "      <th>valid</th>\n",
       "      <th></th>\n",
       "      <th></th>\n",
       "      <th></th>\n",
       "    </tr>\n",
       "  </thead>\n",
       "  <tbody>\n",
       "    <tr>\n",
       "      <th>1945-11-02 22:00:00</th>\n",
       "      <td>66.38</td>\n",
       "      <td>66.38</td>\n",
       "      <td>67.7375</td>\n",
       "    </tr>\n",
       "    <tr>\n",
       "      <th>1945-11-02 23:00:00</th>\n",
       "      <td>65.30</td>\n",
       "      <td>66.38</td>\n",
       "      <td>67.9025</td>\n",
       "    </tr>\n",
       "    <tr>\n",
       "      <th>1945-11-03 00:00:00</th>\n",
       "      <td>65.30</td>\n",
       "      <td>65.30</td>\n",
       "      <td>68.0675</td>\n",
       "    </tr>\n",
       "    <tr>\n",
       "      <th>1945-11-03 01:00:00</th>\n",
       "      <td>64.40</td>\n",
       "      <td>65.30</td>\n",
       "      <td>68.2400</td>\n",
       "    </tr>\n",
       "    <tr>\n",
       "      <th>1945-11-03 02:00:00</th>\n",
       "      <td>64.40</td>\n",
       "      <td>64.40</td>\n",
       "      <td>68.4500</td>\n",
       "    </tr>\n",
       "  </tbody>\n",
       "</table>\n",
       "</div>"
      ],
      "text/plain": [
       "                      tmpf   lag1  rolling24\n",
       "valid                                       \n",
       "1945-11-02 22:00:00  66.38  66.38    67.7375\n",
       "1945-11-02 23:00:00  65.30  66.38    67.9025\n",
       "1945-11-03 00:00:00  65.30  65.30    68.0675\n",
       "1945-11-03 01:00:00  64.40  65.30    68.2400\n",
       "1945-11-03 02:00:00  64.40  64.40    68.4500"
      ]
     },
     "execution_count": 41,
     "metadata": {},
     "output_type": "execute_result"
    }
   ],
   "source": [
    "df_hourly.head()"
   ]
  },
  {
   "cell_type": "markdown",
   "metadata": {},
   "source": [
    "## Train test split for predictive modeling"
   ]
  },
  {
   "cell_type": "code",
   "execution_count": 43,
   "metadata": {},
   "outputs": [
    {
     "name": "stdout",
     "output_type": "stream",
     "text": [
      "Train shape: (699974, 3)\n",
      "Test shape: (380, 1)\n",
      "Train period: 1945-11-02 22:00:00 -> 2025-09-16 23:00:00\n",
      "Test period: 2025-09-17 00:51:00 -> 2025-09-30 22:51:00\n"
     ]
    }
   ],
   "source": [
    "# Define test window\n",
    "start_date = \"2025-09-17 00:00:00\"\n",
    "end_date   = \"2025-09-30 23:00:00\"\n",
    "\n",
    "# Training set = cleaned hourly data before test window\n",
    "mask_train = (df_hourly.index < start_date)\n",
    "train_data = df_hourly.loc[mask_train]\n",
    "\n",
    "# Test set = actual values (uncleaned) from original dataset\n",
    "mask_test = (weather_data[\"valid\"] >= start_date) & (weather_data[\"valid\"] <= end_date)\n",
    "test_data = weather_data.loc[mask_test, [\"valid\", \"tmpf\"]].set_index(\"valid\")\n",
    "\n",
    "print(\"Train shape:\", train_data.shape)\n",
    "print(\"Test shape:\", test_data.shape)\n",
    "print(\"Train period:\", train_data.index.min(), \"->\", train_data.index.max())\n",
    "print(\"Test period:\", test_data.index.min(), \"->\", test_data.index.max())\n"
   ]
  },
  {
   "cell_type": "markdown",
   "metadata": {},
   "source": [
    "## Starting with Linear Regression, getting the features"
   ]
  },
  {
   "cell_type": "code",
   "execution_count": 44,
   "metadata": {},
   "outputs": [
    {
     "name": "stdout",
     "output_type": "stream",
     "text": [
      "                      tmpf   lag1  rolling24  lag24  hour  month\n",
      "valid                                                           \n",
      "1945-11-03 22:00:00  48.38  52.34   65.45375  66.38    22     11\n",
      "1945-11-03 23:00:00  48.38  48.38   64.74875  65.30    23     11\n",
      "1945-11-04 00:00:00  47.30  48.38   63.99875  65.30     0     11\n",
      "1945-11-04 01:00:00  47.30  47.30   63.28625  64.40     1     11\n",
      "1945-11-04 02:00:00  47.30  47.30   62.57375  64.40     2     11\n"
     ]
    }
   ],
   "source": [
    "import pandas as pd\n",
    "import numpy as np\n",
    "\n",
    "# Start from cleaned hourly train_data\n",
    "df_features = train_data.copy()\n",
    "\n",
    "# Lag features\n",
    "df_features['lag1'] = df_features['tmpf'].shift(1)\n",
    "df_features['lag24'] = df_features['tmpf'].shift(24)  # same hour yesterday\n",
    "\n",
    "# Rolling feature\n",
    "df_features['rolling24'] = df_features['tmpf'].rolling(24).mean()\n",
    "\n",
    "# Seasonal features\n",
    "df_features['hour'] = df_features.index.hour\n",
    "df_features['month'] = df_features.index.month\n",
    "\n",
    "# Drop rows with NaNs (first 24 hours will be NaN because of lag/rolling)\n",
    "df_features = df_features.dropna()\n",
    "\n",
    "print(df_features.head())\n"
   ]
  },
  {
   "cell_type": "markdown",
   "metadata": {},
   "source": [
    "## Prepare Train sets"
   ]
  },
  {
   "cell_type": "code",
   "execution_count": 45,
   "metadata": {},
   "outputs": [
    {
     "name": "stdout",
     "output_type": "stream",
     "text": [
      "Train R^2: 0.9810063419444114\n"
     ]
    }
   ],
   "source": [
    "from sklearn.linear_model import LinearRegression\n",
    "\n",
    "# Features and target\n",
    "X_train = df_features[['lag1','lag24','rolling24','hour','month']]\n",
    "y_train = df_features['tmpf']\n",
    "\n",
    "# Fit linear regression model\n",
    "model_lr = LinearRegression()\n",
    "model_lr.fit(X_train, y_train)\n",
    "\n",
    "print(\"Train R^2:\", model_lr.score(X_train, y_train))\n"
   ]
  },
  {
   "cell_type": "markdown",
   "metadata": {},
   "source": [
    "## Set up for autoregressive forecasting"
   ]
  },
  {
   "cell_type": "code",
   "execution_count": 46,
   "metadata": {},
   "outputs": [],
   "source": [
    "# Define test window\n",
    "start_date = \"2025-09-17 00:00:00\"\n",
    "end_date   = \"2025-09-30 23:00:00\"\n",
    "test_index = pd.date_range(start=start_date, end=end_date, freq=\"H\")\n",
    "\n",
    "# Initialize list to store predictions\n",
    "predictions = []\n",
    "\n",
    "# Get the last 24 hours of training data (needed for lags)\n",
    "history = train_data.copy()\n"
   ]
  },
  {
   "cell_type": "markdown",
   "metadata": {},
   "source": [
    "## Forecast Loop"
   ]
  },
  {
   "cell_type": "code",
   "execution_count": 47,
   "metadata": {},
   "outputs": [],
   "source": [
    "for ts in test_index:\n",
    "    # Build feature row for this timestamp\n",
    "    lag1 = history['tmpf'].iloc[-1]\n",
    "    lag24 = history['tmpf'].iloc[-24] if len(history) >= 24 else lag1\n",
    "    rolling24 = history['tmpf'].iloc[-24:].mean() if len(history) >= 24 else history['tmpf'].mean()\n",
    "    hour = ts.hour\n",
    "    month = ts.month\n",
    "\n",
    "    X_new = pd.DataFrame([[lag1, lag24, rolling24, hour, month]],\n",
    "                         columns=['lag1','lag24','rolling24','hour','month'])\n",
    "\n",
    "    # Predict temperature\n",
    "    yhat = model_lr.predict(X_new)[0]\n",
    "\n",
    "    # Append prediction\n",
    "    predictions.append((ts, yhat))\n",
    "\n",
    "    # Update history with prediction (autoregressive step)\n",
    "    history.loc[ts] = yhat\n"
   ]
  },
  {
   "cell_type": "markdown",
   "metadata": {},
   "source": [
    "## Collect predictions into dataframe"
   ]
  },
  {
   "cell_type": "code",
   "execution_count": 48,
   "metadata": {},
   "outputs": [
    {
     "name": "stdout",
     "output_type": "stream",
     "text": [
      "                     pred_tmpf\n",
      "valid                         \n",
      "2025-09-17 00:00:00  64.078308\n",
      "2025-09-17 01:00:00  64.984797\n",
      "2025-09-17 02:00:00  65.719948\n",
      "2025-09-17 03:00:00  66.351385\n",
      "2025-09-17 04:00:00  66.880403\n",
      "                     pred_tmpf\n",
      "valid                         \n",
      "2025-09-30 19:00:00  62.989613\n",
      "2025-09-30 20:00:00  62.201237\n",
      "2025-09-30 21:00:00  61.286720\n",
      "2025-09-30 22:00:00  60.240309\n",
      "2025-09-30 23:00:00  59.055988\n"
     ]
    }
   ],
   "source": [
    "df_forecast = pd.DataFrame(predictions, columns=['valid','pred_tmpf']).set_index('valid')\n",
    "\n",
    "print(df_forecast.head())\n",
    "print(df_forecast.tail())\n"
   ]
  },
  {
   "cell_type": "markdown",
   "metadata": {},
   "source": [
    "## Compare with actual test set but need to convert to numeric first since it is type object"
   ]
  },
  {
   "cell_type": "code",
   "execution_count": 51,
   "metadata": {},
   "outputs": [
    {
     "name": "stdout",
     "output_type": "stream",
     "text": [
      "pred_tmpf      float64\n",
      "actual_tmpf    float64\n",
      "dtype: object\n",
      "                     pred_tmpf  actual_tmpf\n",
      "valid                                      \n",
      "2025-09-17 00:00:00  64.078308          NaN\n",
      "2025-09-17 01:00:00  64.984797          NaN\n",
      "2025-09-17 02:00:00  65.719948          NaN\n",
      "2025-09-17 03:00:00  66.351385          NaN\n",
      "2025-09-17 04:00:00  66.880403          NaN\n"
     ]
    }
   ],
   "source": [
    "# Actual test temps (raw, possibly object dtype)\n",
    "mask_test = (weather_data[\"valid\"] >= start_date) & (weather_data[\"valid\"] <= end_date)\n",
    "test_data = weather_data.loc[mask_test, [\"valid\",\"tmpf\"]].set_index(\"valid\")\n",
    "\n",
    "# Convert to numeric, coercing bad entries to NaN\n",
    "test_data['tmpf'] = pd.to_numeric(test_data['tmpf'], errors='coerce')\n",
    "\n",
    "# Merge with predictions\n",
    "df_results = df_forecast.join(test_data, how=\"left\").rename(columns={'tmpf':'actual_tmpf'})\n",
    "\n",
    "print(df_results.dtypes)   # confirm actual_tmpf is float now\n",
    "print(df_results.head())\n"
   ]
  },
  {
   "cell_type": "code",
   "execution_count": 53,
   "metadata": {},
   "outputs": [
    {
     "name": "stdout",
     "output_type": "stream",
     "text": [
      "Test rows: 380\n",
      "Non-null after coercion: 380\n"
     ]
    }
   ],
   "source": [
    "mask_test = (weather_data[\"valid\"] >= start_date) & (weather_data[\"valid\"] <= end_date)\n",
    "test_data = weather_data.loc[mask_test, [\"valid\",\"tmpf\"]].copy()\n",
    "test_data['tmpf'] = pd.to_numeric(test_data['tmpf'], errors='coerce')\n",
    "\n",
    "print(\"Test rows:\", len(test_data))\n",
    "print(\"Non-null after coercion:\", test_data['tmpf'].notna().sum())\n"
   ]
  },
  {
   "cell_type": "markdown",
   "metadata": {},
   "source": [
    "## Resample the test data to the same hourly grid"
   ]
  },
  {
   "cell_type": "code",
   "execution_count": 54,
   "metadata": {},
   "outputs": [
    {
     "name": "stdout",
     "output_type": "stream",
     "text": [
      "Forecast rows: 336\n",
      "Actual rows after resample: 335\n",
      "Non-null actuals after join: 333\n",
      "                     pred_tmpf  actual_tmpf\n",
      "valid                                      \n",
      "2025-09-17 00:00:00  64.078308         63.0\n",
      "2025-09-17 01:00:00  64.984797         62.0\n",
      "2025-09-17 02:00:00  65.719948         62.0\n",
      "2025-09-17 03:00:00  66.351385         62.0\n",
      "2025-09-17 04:00:00  66.880403         61.0\n"
     ]
    }
   ],
   "source": [
    "# Put test set on the hourly grid\n",
    "test_data = test_data.set_index(\"valid\").resample(\"H\").mean()\n",
    "\n",
    "# Merge predictions with actuals\n",
    "df_results = df_forecast.join(test_data, how=\"left\").rename(columns={'tmpf':'actual_tmpf'})\n",
    "\n",
    "print(\"Forecast rows:\", len(df_forecast))\n",
    "print(\"Actual rows after resample:\", len(test_data))\n",
    "print(\"Non-null actuals after join:\", df_results['actual_tmpf'].notna().sum())\n",
    "print(df_results.head())\n"
   ]
  },
  {
   "cell_type": "markdown",
   "metadata": {},
   "source": [
    "## Evaluate safely"
   ]
  },
  {
   "cell_type": "code",
   "execution_count": 59,
   "metadata": {},
   "outputs": [
    {
     "name": "stdout",
     "output_type": "stream",
     "text": [
      "Test MAE : 9.496020381593587\n",
      "Test MSE : 130.99266254724205\n"
     ]
    }
   ],
   "source": [
    "from sklearn.metrics import mean_absolute_error, mean_squared_error\n",
    "\n",
    "# Drop rows with missing actuals\n",
    "df_eval = df_results.dropna(subset=['actual_tmpf'])\n",
    "\n",
    "# Metrics\n",
    "mae = mean_absolute_error(df_eval['actual_tmpf'], df_eval['pred_tmpf'])\n",
    "mse = mean_squared_error(df_eval['actual_tmpf'], df_eval['pred_tmpf'])\n",
    "\n",
    "print(\"Test MAE :\", mae)\n",
    "print(\"Test MSE :\", mse)\n"
   ]
  },
  {
   "cell_type": "markdown",
   "metadata": {},
   "source": [
    "## Testing with random forest"
   ]
  },
  {
   "cell_type": "code",
   "execution_count": 60,
   "metadata": {},
   "outputs": [
    {
     "name": "stdout",
     "output_type": "stream",
     "text": [
      "Train R^2: 0.9955397670685547\n"
     ]
    }
   ],
   "source": [
    "from sklearn.ensemble import RandomForestRegressor\n",
    "\n",
    "rf_model = RandomForestRegressor(\n",
    "    n_estimators=200,   # number of trees\n",
    "    max_depth=20,       # limit depth to avoid overfitting\n",
    "    random_state=42,\n",
    "    n_jobs=-1           # use all CPU cores\n",
    ")\n",
    "rf_model.fit(X_train, y_train)\n",
    "\n",
    "print(\"Train R^2:\", rf_model.score(X_train, y_train))\n"
   ]
  },
  {
   "cell_type": "markdown",
   "metadata": {},
   "source": [
    "## Forecast Loop autoregressive"
   ]
  },
  {
   "cell_type": "code",
   "execution_count": 61,
   "metadata": {},
   "outputs": [],
   "source": [
    "# Define test horizon\n",
    "start_date = \"2025-09-17 00:00:00\"\n",
    "end_date   = \"2025-09-30 23:00:00\"\n",
    "test_index = pd.date_range(start=start_date, end=end_date, freq=\"H\")\n",
    "\n",
    "predictions = []\n",
    "history = train_data.copy()\n",
    "\n",
    "for ts in test_index:\n",
    "    lag1 = history['tmpf'].iloc[-1]\n",
    "    lag24 = history['tmpf'].iloc[-24] if len(history) >= 24 else lag1\n",
    "    rolling24 = history['tmpf'].iloc[-24:].mean() if len(history) >= 24 else history['tmpf'].mean()\n",
    "    hour = ts.hour\n",
    "    month = ts.month\n",
    "\n",
    "    X_new = pd.DataFrame([[lag1, lag24, rolling24, hour, month]],\n",
    "                         columns=['lag1','lag24','rolling24','hour','month'])\n",
    "\n",
    "    yhat = rf_model.predict(X_new)[0]\n",
    "\n",
    "    predictions.append((ts, yhat))\n",
    "    history.loc[ts] = yhat  # autoregressive update\n"
   ]
  },
  {
   "cell_type": "markdown",
   "metadata": {},
   "source": [
    "## Collect predictions plus compare with actual"
   ]
  },
  {
   "cell_type": "code",
   "execution_count": 62,
   "metadata": {},
   "outputs": [],
   "source": [
    "df_forecast = pd.DataFrame(predictions, columns=['valid','pred_tmpf']).set_index('valid')\n",
    "\n",
    "# Actuals (resampled to hourly)\n",
    "mask_test = (weather_data[\"valid\"] >= start_date) & (weather_data[\"valid\"] <= end_date)\n",
    "test_data = weather_data.loc[mask_test, [\"valid\",\"tmpf\"]].copy()\n",
    "test_data['tmpf'] = pd.to_numeric(test_data['tmpf'], errors='coerce')\n",
    "test_data = test_data.set_index(\"valid\").resample(\"H\").mean()\n",
    "\n",
    "# Merge\n",
    "df_results = df_forecast.join(test_data, how=\"left\").rename(columns={'tmpf':'actual_tmpf'})\n"
   ]
  },
  {
   "cell_type": "markdown",
   "metadata": {},
   "source": [
    "## Evaluate"
   ]
  },
  {
   "cell_type": "code",
   "execution_count": 66,
   "metadata": {},
   "outputs": [
    {
     "name": "stdout",
     "output_type": "stream",
     "text": [
      "Random Forest MAE : 4.402482941842356\n",
      "Random Forest MSE : 30.589917922354033\n"
     ]
    }
   ],
   "source": [
    "from sklearn.metrics import mean_absolute_error, mean_squared_error\n",
    "\n",
    "df_eval = df_results.dropna(subset=['actual_tmpf'])\n",
    "\n",
    "mae = mean_absolute_error(df_eval['actual_tmpf'], df_eval['pred_tmpf'])\n",
    "mse = mean_squared_error(df_eval['actual_tmpf'], df_eval['pred_tmpf'])\n",
    "\n",
    "print(\"Random Forest MAE :\", mae)\n",
    "print(\"Random Forest MSE :\", mse)\n",
    "\n"
   ]
  },
  {
   "cell_type": "code",
   "execution_count": 67,
   "metadata": {},
   "outputs": [
    {
     "data": {
      "text/plain": [
       "<Axes: xlabel='valid'>"
      ]
     },
     "execution_count": 67,
     "metadata": {},
     "output_type": "execute_result"
    },
    {
     "data": {
      "image/png": "[encoded data removed]",
      "text/plain": [
       "<Figure size 1200x500 with 1 Axes>"
      ]
     },
     "metadata": {},
     "output_type": "display_data"
    }
   ],
   "source": [
    "df_hourly['tmpf'].loc['2020-01':'2020-03'].plot(figsize=(12,5))\n"
   ]
  }
 ],
 "metadata": {
  "kernelspec": {
   "display_name": "venv (3.13.5)",
   "language": "python",
   "name": "python3"
  },
  "language_info": {
   "codemirror_mode": {
    "name": "ipython",
    "version": 3
   },
   "file_extension": ".py",
   "mimetype": "text/x-python",
   "name": "python",
   "nbconvert_exporter": "python",
   "pygments_lexer": "ipython3",
   "version": "3.13.5"
  }
 },
 "nbformat": 4,
 "nbformat_minor": 4
}
